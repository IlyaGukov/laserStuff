{
 "cells": [
  {
   "cell_type": "code",
   "execution_count": 2,
   "metadata": {
    "collapsed": false
   },
   "outputs": [],
   "source": [
    "import numpy as np\n",
    "from math import factorial\n",
    "from sech_pulse import sech\n",
    "from plse_width import pulse_width\n",
    "import laser_comp_f as comp\n",
    "import matplotlib.pyplot as plt\n",
    "from laser_30s import coupler,amplifier,outcoupler,fiber,combiner,amplifier2\n",
    "#from laser_comp_exp_fft import amplifier2\n",
    "#%load_ext Cython"
   ]
  },
  {
   "cell_type": "markdown",
   "metadata": {},
   "source": [
    "Parameters"
   ]
  },
  {
   "cell_type": "code",
   "execution_count": 3,
   "metadata": {
    "collapsed": false
   },
   "outputs": [],
   "source": [
    "L=400#   %ps\n",
    "nt=2**12# %number of points in time window\n",
    "dt=L/nt#  % ps \n",
    "t2 = np.linspace(-L/2,L/2-1,nt) \n",
    "t = t2.T#  time vector ps\n",
    "#w = 2*pi/L*[0:nt/2-1 -nt/2:-1]' w move omega\n",
    "omega = 2*(np.pi/L)*np.array([np.linspace(0,nt/2-1,nt/2), np.linspace(-nt/2,-1,nt/2)])# frequency grid\n",
    "omega = np.reshape(omega,(np.product(omega.shape),))\n",
    "c=2.99792458e-7# km/ps\n",
    "lambda0=1080e-12# %km \n",
    "lambdap=980e-12\n",
    "nus=c/lambda0#THz\n",
    "nup=c/lambdap\n",
    "h=6.63e-10#pJ ps\n",
    "\n",
    "#%#AMPLIFIER PARAMETERS%%%%%%%%%%%%%%%%%%%%%%%%%%%%%%%%%%%%%%%%\n",
    "#%c1 = amplifier(c0,w,halfstepa,dt,dza,nza,gammaa,g0,deltawg,Penergy);\n",
    "#% la=0.3e-3; %km\n",
    "\n",
    "La1=5.3e-3# %km   % 1m\n",
    "La2=5.0e-3#\n",
    "dza=0.001e-3# % km %0.0001\n",
    "nza1=int(La1//dza)\n",
    "nza2=int(La2//dza)\n",
    "\n",
    "alphadbperkma=0# %db/km\n",
    "alphaa=np.log(10**(alphadbperkma/10))#%1/km\n",
    "betaa=np.array([0,0,23])# %ps^2/km%+++++++++++++++++++++++++DISPERSION\n",
    "gammaa=4.7# %1/W/km\n",
    "\n",
    "bandwidthfwhm=50e-12#%1/km++++++++++++++++++++++++++++++GAIN BANDWIDTH \n",
    "bandwidth=bandwidthfwhm*(2**0.5)#%% 1/km \n",
    "#%bandwidth=40e-12;\n",
    "deltawg=2*np.pi*c*bandwidth/((lambda0)**2)# % THz rad\n",
    "halfstepa = -alphaa/2\n",
    "for ii in range(len(betaa)):\n",
    "    halfstepa = halfstepa + 1j*betaa[ii]*(omega)**ii/factorial(ii)\n",
    "\n",
    "#%%%%%%%%%%%%%%%%%%%%%%%%%%%%%%%%%%%%%%%%%%%%%%%%%%%\n",
    "#%Gain parameters\n",
    "Psatp=4.9\n",
    "Psats=55e-3# %mW\n",
    "alpha1p=0.115e3# %1/km\n",
    "alpha1s=0.062e3#\n",
    "Ndop=1.9e34# %km^(-3)\n",
    "sigmaap=6.35e-31#  %km^2\n",
    "sigmaep=2.0e-32# \n",
    "sigmaas=1.5e-33# \n",
    "sigmaes=2.2e-31# \n",
    "tau=0.84e9# %ps\n",
    "A=5.0e-17# %km^2\n",
    "Gammap=0.2\n",
    "Gammas=0.82\n",
    "alpha2p=0.003e3# %km^(-1)\n",
    "alpha2s=0.005e3#\n",
    "alphap=alpha1p+alpha2p\n",
    "alphas=alpha1s+alpha2s\n",
    "mu=(sigmaap/sigmaas)*(sigmaas+sigmaes)/(sigmaep+sigmaap)\n",
    "\n",
    "Pp01=2.6# %W\n",
    "Pp02=1.6#\n",
    "PpL1=Pp01*np.exp(-alphap*La1)\n",
    "PpL2=Pp02*np.exp(-alphap*La2)\n",
    "\n",
    "#%%%% PASSIVE FIBRE\n",
    "Lf1=12.4e-3# %km\n",
    "Lf2=2.8e-3\n",
    "dzf=0.001e-3# % km\n",
    "nzf1 = int(Lf1//dzf)\n",
    "nzf2 = int(Lf2//dzf)\n",
    "alphadbperkmf=0# %db/km\n",
    "alphaf=np.log(10**(alphadbperkmf/10))#%1/km\n",
    "betaf = np.array([0,0,23])# %ps^2/km%+++++++++++++++++++++++++DISPERSION\n",
    "gammaf=4.7# %1/W/km\n",
    "halfstepf = -alphaf/2;\n",
    "for ii in range(len(betaf)):\n",
    "    halfstepf = halfstepf + 1j*betaf[ii]*(omega)**ii/factorial(ii)\n",
    "    \n",
    "#%%%% NOLM COUPLER\n",
    "alpha=0.6\n",
    "\n",
    "#%%%OUTPUTCOUPLER\n",
    "beta=0.7#%reflectivity\n",
    "\n",
    "#% /////INPUT PULSE////////////////%\n",
    "P0=60# %W\n",
    "Tfwhm=10# %ps\n",
    "input_pulse=sech(t,0)# not sure about this moment\n",
    "\n"
   ]
  },
  {
   "cell_type": "code",
   "execution_count": 4,
   "metadata": {
    "collapsed": false
   },
   "outputs": [
    {
     "name": "stdout",
     "output_type": "stream",
     "text": [
      "nza1 5300 nza2 5000 nzf1 12400 nzf2 2800\n"
     ]
    }
   ],
   "source": [
    "print('nza1',nza1,'nza2',nza2,'nzf1',nzf1,'nzf2',nzf2)"
   ]
  },
  {
   "cell_type": "code",
   "execution_count": 4,
   "metadata": {
    "collapsed": false
   },
   "outputs": [],
   "source": [
    "energy = sum(np.abs(input_pulse)**2)*L\n",
    "u = np.abs(input_pulse)**2\n",
    "fw = pulse_width(u,dt) #possibly pulse width must be rewritten "
   ]
  },
  {
   "cell_type": "markdown",
   "metadata": {},
   "source": [
    "Preparation for main loop"
   ]
  },
  {
   "cell_type": "code",
   "execution_count": 5,
   "metadata": {
    "collapsed": false
   },
   "outputs": [
    {
     "data": {
      "text/plain": [
       "array([ 1.41421356,  1.        ,  1.        ,  1.        ,  1.        ])"
      ]
     },
     "execution_count": 5,
     "metadata": {},
     "output_type": "execute_result"
    }
   ],
   "source": [
    "np.absolute(np.array([1+1j,1,1,1,1]))"
   ]
  },
  {
   "cell_type": "code",
   "execution_count": 6,
   "metadata": {
    "collapsed": false
   },
   "outputs": [
    {
     "data": {
      "text/plain": [
       "10000000000.0"
      ]
     },
     "execution_count": 6,
     "metadata": {},
     "output_type": "execute_result"
    }
   ],
   "source": [
    "1e12/100"
   ]
  },
  {
   "cell_type": "code",
   "execution_count": 17,
   "metadata": {
    "collapsed": true
   },
   "outputs": [],
   "source": [
    "def NALM(roundtrip,Lf1,input_pulse,step,Pp01,Pp02):\n",
    "    PpL1=Pp01*np.exp(-alphap*La1)\n",
    "    PpL2=Pp02*np.exp(-alphap*La2)\n",
    "\n",
    "    nzf1 = int(Lf1//dzf)\n",
    "    c0 = input_pulse\n",
    "    #energy = []\n",
    "    #peak = []\n",
    "    #width = []\n",
    "    for i in range(roundtrip):\n",
    "\n",
    "        c1,c2 = coupler(c0,alpha)\n",
    "\n",
    "        c3 = amplifier(c1,omega,halfstepa,dt,dza,nza1,gammaa,deltawg,Pp01,Psatp,Psats,alpha1p, alpha1s,alphap,alphas,mu,L)\n",
    "        c4 = fiber(c3,halfstepf,dzf,nzf1,gammaf) \n",
    "        c5 = amplifier2(c4,omega,halfstepa,dt,dza,nza2,gammaa,deltawg,PpL2,Psatp,Psats,alpha1p, alpha1s, alphap,alphas,mu,L)\n",
    "\n",
    "        c6 = amplifier(c2,omega,halfstepa,dt,dza,nza2,gammaa,deltawg,Pp02,Psatp,Psats,alpha1p, alpha1s, alphap,alphas,mu,L)\n",
    "        c7 = fiber(c6,halfstepf,dzf,nzf1,gammaf) \n",
    "        c8 = amplifier2(c7,omega,halfstepa,dt,dza,nza1,gammaa,deltawg,PpL1,Psatp,Psats,alpha1p,alpha1s,alphap,alphas,mu,L)\n",
    "\n",
    "        c9 = combiner(c5,c8,alpha)\n",
    "        c10 = fiber(c9,halfstepf,dzf,nzf2,gammaf) \n",
    "        c11,c12 = outcoupler(c10,1-beta)\n",
    "        #energy.append(sum(np.abs(c12)**2)*dt)\n",
    "        #peak.append(max(np.abs(c12)**2))\n",
    "        #width.append(pulse_width(c12,dt))\n",
    "\n",
    "    #u(:,i+1) =abs(c12).^2;\n",
    "    #fw(1,i+1)=fwhm(t,abs(c12)**2;\n",
    "        c0=c11\n",
    "       \n",
    "        if i%step == 0 and i!=0 :\n",
    "            f , (x1,x2) = plt.subplots(2,1)\n",
    "            x1.plot(t,abs(c12)**2)\n",
    "            x2.plot(1e12*(lambda0+(lambda0**2/(2*np.pi*c))*2*np.pi*np.fft.fftfreq(c12.size,dt)),np.abs(np.fft.ifft(c12)*(nt*dt)/np.sqrt(2*np.pi)))#must be removed\n",
    "            x2.set_title('Spectrum')\n",
    "            x1.set_title('Shape')\n",
    "            pic_name = 'C:/Users/ilyag/Pictures/MatLab/files/energy_1m/{0}_{1}_energy1_{2}_energy2_{3}.png'.format(i,Lf1,Pp01,Pp02)\n",
    "            f.savefig(pic_name)\n",
    "            f.clf()\n",
    "            plt.close(f)\n",
    "    return c12"
   ]
  },
  {
   "cell_type": "code",
   "execution_count": 20,
   "metadata": {
    "collapsed": false,
    "scrolled": true
   },
   "outputs": [
    {
     "data": {
      "text/plain": [
       "array([ -2.84401346e-05 +8.08375769e-06j,\n",
       "        -1.93155356e-04 +2.93845759e-04j,\n",
       "         6.48116867e-05 -7.76310668e-05j, ...,\n",
       "        -1.93139669e-04 +2.85424596e-04j,\n",
       "        -8.12854526e-06 +6.25322961e-05j,   1.96882870e-04 -2.97621505e-04j])"
      ]
     },
     "execution_count": 20,
     "metadata": {},
     "output_type": "execute_result"
    }
   ],
   "source": [
    "NALM(20,Lf1,input_pulse,19,4,4)"
   ]
  },
  {
   "cell_type": "code",
   "execution_count": null,
   "metadata": {
    "collapsed": false
   },
   "outputs": [],
   "source": [
    "#Lndf = np.linspace(10e-3,15e-3,25)\n",
    "Diff = np.linspace(9.5,9.9,10)\n",
    "NDF = np.array([NALM(50,5e-3,input_pulse,48,diff, diff) for diff in Diff])\n"
   ]
  },
  {
   "cell_type": "code",
   "execution_count": 12,
   "metadata": {
    "collapsed": false
   },
   "outputs": [],
   "source": [
    "Energy = np.array([np.sum(np.abs(n)**2)*dt for n in NDF])\n"
   ]
  },
  {
   "cell_type": "code",
   "execution_count": 16,
   "metadata": {
    "collapsed": false
   },
   "outputs": [
    {
     "data": {
      "image/png": "[encoded data removed]",
      "text/plain": [
       "<matplotlib.figure.Figure at 0x1a009eb1e10>"
      ]
     },
     "metadata": {},
     "output_type": "display_data"
    }
   ],
   "source": [
    "plt.plot(Lndf*1000,Energy)\n",
    "plt.xlabel('NDF, m')\n",
    "plt.ylabel('Energy')\n",
    "plt.savefig('energyNDF.png')\n",
    "plt.show()"
   ]
  },
  {
   "cell_type": "code",
   "execution_count": 68,
   "metadata": {
    "collapsed": false
   },
   "outputs": [],
   "source": [
    "width = np.array([pulse_width(np.abs(n)**2,dt) for n in NDF])"
   ]
  },
  {
   "cell_type": "code",
   "execution_count": 69,
   "metadata": {
    "collapsed": false
   },
   "outputs": [
    {
     "data": {
      "image/png": "[encoded data removed]",
      "text/plain": [
       "<matplotlib.figure.Figure at 0x1a005aadcc0>"
      ]
     },
     "metadata": {},
     "output_type": "display_data"
    }
   ],
   "source": [
    "plt.plot(Lndf*1000,width)\n",
    "plt.xlabel('NDF, m')\n",
    "plt.ylabel('pulse width, ps')\n",
    "plt.savefig('widthNDF.png')\n",
    "plt.show()"
   ]
  },
  {
   "cell_type": "code",
   "execution_count": 70,
   "metadata": {
    "collapsed": true
   },
   "outputs": [],
   "source": [
    "NDF_abs = np.abs(NDF)"
   ]
  },
  {
   "cell_type": "code",
   "execution_count": 72,
   "metadata": {
    "collapsed": false
   },
   "outputs": [],
   "source": [
    "peak = np.array([max(n*n) for n in NDF_abs])"
   ]
  },
  {
   "cell_type": "code",
   "execution_count": 74,
   "metadata": {
    "collapsed": false
   },
   "outputs": [
    {
     "data": {
      "image/png": "[encoded data removed]",
      "text/plain": [
       "<matplotlib.figure.Figure at 0x1a00a135860>"
      ]
     },
     "metadata": {},
     "output_type": "display_data"
    }
   ],
   "source": [
    "plt.plot(Lndf*1000,peak)\n",
    "plt.xlabel('NDF, m')\n",
    "plt.ylabel('peak power, W')\n",
    "plt.savefig('peakNDF.png')\n",
    "plt.show()"
   ]
  },
  {
   "cell_type": "code",
   "execution_count": 82,
   "metadata": {
    "collapsed": false
   },
   "outputs": [
    {
     "data": {
      "text/plain": [
       "numpy.ndarray"
      ]
     },
     "execution_count": 82,
     "metadata": {},
     "output_type": "execute_result"
    }
   ],
   "source": [
    "type(input_pulse)"
   ]
  },
  {
   "cell_type": "code",
   "execution_count": 11,
   "metadata": {
    "collapsed": false
   },
   "outputs": [],
   "source": [
    "roundtrip = 60\n",
    "c0 = input_pulse\n",
    "energy = []\n",
    "peak = []\n",
    "width = []\n",
    "for i in range(roundtrip):\n",
    "\n",
    "    c1,c2 = comp.coupler(c0,alpha)\n",
    "\n",
    "    c3 = comp.amplifier(c1,omega,halfstepa,dt,dza,nza1,gammaa,deltawg,Pp01,Psatp,Psats,alpha1p, alpha1s,alphap,alphas,mu,L)\n",
    "    c4 = comp.fiber(c3,halfstepf,dzf,nzf1,gammaf) \n",
    "    c5 = comp.amplifier2(c4,omega,halfstepa,dt,dza,nza2,gammaa,deltawg,PpL2,Psatp,Psats,alpha1p, alpha1s, alphap,alphas,mu,L)\n",
    "\n",
    "    c6 = comp.amplifier(c2,omega,halfstepa,dt,dza,nza2,gammaa,deltawg,Pp02,Psatp,Psats,alpha1p, alpha1s, alphap,alphas,mu,L)\n",
    "    c7 = comp.fiber(c6,halfstepf,dzf,nzf1,gammaf) \n",
    "    c8 = comp.amplifier2(c7,omega,halfstepa,dt,dza,nza1,gammaa,deltawg,PpL1,Psatp,Psats,alpha1p,alpha1s,alphap,alphas,mu,L)\n",
    "\n",
    "    c9 = comp.combiner(c5,c8,alpha)\n",
    "    c10 = comp.fiber(c9,halfstepf,dzf,nzf2,gammaf) \n",
    "    c11,c12 = comp.outcoupler(c10,1-beta)\n",
    "    energy.append(sum(np.abs(c12)**2)*dt)\n",
    "    peak.append(max(np.abs(c12)**2))\n",
    "    width.append(pulse_width(c12,dt))\n",
    "\n",
    "    #u(:,i+1) =abs(c12).^2;\n",
    "    #fw(1,i+1)=fwhm(t,abs(c12)**2;\n",
    "    c0=c11\n",
    "       \n",
    "    if i%11 == 0:\n",
    "        f , (x1,x2) = plt.subplots(2,1)\n",
    "        x1.plot(t,abs(c12)**2)\n",
    "        x2.plot(1e12*(lambda0+(lambda0**2/(2*np.pi*c))*2*np.pi*np.fft.fftfreq(c12.size,dt)),np.abs(np.fft.ifft(c12)*(nt*dt)/np.sqrt(2*np.pi)))#must be removed\n",
    "        x2.set_title('Spectrum')\n",
    "        x1.set_title('Shape')\n",
    "        pic_name = 'C:/Users/ilyag/Pictures/MatLab/files/results/{0}.png'.format(i)\n",
    "        f.savefig(pic_name)\n",
    "        f.clf()\n",
    "        plt.close(f)\n",
    "    \n",
    "    \n"
   ]
  },
  {
   "cell_type": "code",
   "execution_count": null,
   "metadata": {
    "collapsed": true
   },
   "outputs": [],
   "source": []
  }
 ],
 "metadata": {
  "anaconda-cloud": {},
  "kernelspec": {
   "display_name": "Python [conda root]",
   "language": "python",
   "name": "conda-root-py"
  },
  "language_info": {
   "codemirror_mode": {
    "name": "ipython",
    "version": 3
   },
   "file_extension": ".py",
   "mimetype": "text/x-python",
   "name": "python",
   "nbconvert_exporter": "python",
   "pygments_lexer": "ipython3",
   "version": "3.5.2"
  }
 },
 "nbformat": 4,
 "nbformat_minor": 1
}
